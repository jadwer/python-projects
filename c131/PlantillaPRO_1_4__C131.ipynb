{
  "nbformat": 4,
  "nbformat_minor": 0,
  "metadata": {
    "colab": {
      "provenance": []
    },
    "kernelspec": {
      "name": "python3",
      "display_name": "Python 3"
    },
    "language_info": {
      "name": "python"
    }
  },
  "cells": [
    {
      "cell_type": "markdown",
      "source": [
        "## Cargar el conjunto de datos"
      ],
      "metadata": {
        "id": "JVUNq18b2pLl"
      }
    },
    {
      "cell_type": "code",
      "execution_count": null,
      "metadata": {
        "colab": {
          "base_uri": "https://localhost:8080/"
        },
        "id": "a1j5OkXwWyXi",
        "outputId": "585ed342-818c-44f4-eb89-96fac6a62d87"
      },
      "outputs": [
        {
          "output_type": "stream",
          "name": "stdout",
          "text": [
            "Cloning into 'PRO-C114-Text-Sentiment-Dataset'...\n",
            "remote: Enumerating objects: 20, done.\u001b[K\n",
            "remote: Counting objects: 100% (9/9), done.\u001b[K\n",
            "remote: Compressing objects: 100% (9/9), done.\u001b[K\n",
            "remote: Total 20 (delta 2), reused 0 (delta 0), pack-reused 11\u001b[K\n",
            "Unpacking objects: 100% (20/20), done.\n"
          ]
        }
      ],
      "source": [
        "!git clone https://github.com/procodingclass/PRO-C114-Text-Sentiment-Dataset"
      ]
    },
    {
      "cell_type": "markdown",
      "source": [
        "## Pandas\n",
        "**Pandas** es una biblioteca de código abierto construida sobre Numpy y Matplotlib. Proporciona estructuras de datos y herramientas de análisis de datos fáciles de usar y de alto rendimiento. \n",
        "\n",
        "Un DataFrame es una estructura de datos bidimensional, es decir, los datos se alinean de forma tabular en filas y columnas, al igual que nuestro conjunto de datos de prueba. Pandas DataFrame consta de tres componentes principales, los datos, filas y columnas.\n",
        "\n",
        "Pandas DataFrame se creará cargando los conjuntos de datos de archivos existentes de MS Excel, archivos CSV o de una base de datos SQL. Pandas DataFrame también se puede crear a partir de listas, diccionarios, etc.\n",
        "\n",
        "\n"
      ],
      "metadata": {
        "id": "bCJiSzc3rbbi"
      }
    },
    {
      "cell_type": "code",
      "source": [
        "#Importar pandas.\n",
        "\n",
        "#Leer archivo excel.\n",
        "\n",
        "#Mostrar las primeras cinco entradas del conjunto de datos del entrenamiento.\n"
      ],
      "metadata": {
        "id": "8tw57zW9XmJW"
      },
      "execution_count": null,
      "outputs": []
    },
    {
      "cell_type": "markdown",
      "source": [
        "## Dividir las filas en dos columnas: texto y emociones.\n",
        "\n",
        "\n"
      ],
      "metadata": {
        "id": "-acm1w6z3Zzh"
      }
    },
    {
      "cell_type": "code",
      "source": [
        "#Usar el método split() para separar el texto y las emociones.\n"
      ],
      "metadata": {
        "id": "zzegYbDaYbdA"
      },
      "execution_count": null,
      "outputs": []
    },
    {
      "cell_type": "markdown",
      "source": [
        "## Poner etiquetas a las emociones\n"
      ],
      "metadata": {
        "id": "WkMExmL-4J-y"
      }
    },
    {
      "cell_type": "code",
      "source": [
        "#Encontrar emociones únicas.\n",
        "\n"
      ],
      "metadata": {
        "id": "H_udnVtA3thj"
      },
      "execution_count": null,
      "outputs": []
    },
    {
      "cell_type": "code",
      "source": [
        "#Crear un diccionario para reemplazar emociones con etiquetas.\n"
      ],
      "metadata": {
        "id": "v0kxadlr4VMe"
      },
      "execution_count": null,
      "outputs": []
    },
    {
      "cell_type": "markdown",
      "source": [
        "## Convertir el dataframe a una lista de conjuntos de datos\n"
      ],
      "metadata": {
        "id": "SLoT0jjT4yBK"
      }
    },
    {
      "cell_type": "code",
      "source": [
        "# Definir dos listas para oraciones y emociones.\n",
        "\n",
        "# Agregar texto y emociones en la lista usando el método 'loc'.\n",
        "\n",
        "# Verificar un texto aleatorio y una etiqueta de la lista.\n"
      ],
      "metadata": {
        "id": "wEw0yLt74ryp"
      },
      "execution_count": null,
      "outputs": []
    },
    {
      "cell_type": "markdown",
      "source": [
        "## Tokenización y relleno\n",
        "\n",
        "\n",
        "El acto de convertir texto en números se conoce como **tokenización**. La clase Tokenizer de Keras se usa para codificar la entrada de texto en una secuencia entera.\n",
        "\n",
        "El **relleno** (o *padding*) es importante para que todas las oraciones contengan el mismo número de palabras. El cero se usa para rellenar la secuencia tokenizada para hacer que el texto contenga la misma cantidad de tokens.\n"
      ],
      "metadata": {
        "id": "JEJfFQtxzOKG"
      }
    },
    {
      "cell_type": "code",
      "source": [
        "#Importar tokenizer y pad_sequences de tensorflow.\n",
        "\n",
        "#Definir parámetros para tokenizer.\n",
        "\n",
        "#Crear un diccionario word_index.\n",
        "\n",
        "#Verificar la secuencia tokenizada."
      ],
      "metadata": {
        "id": "tffdBTQ_zUIW"
      },
      "execution_count": null,
      "outputs": []
    },
    {
      "cell_type": "code",
      "source": [
        "#Importar pad_sequences de tensorflow.\n",
        "\n",
        "#Definir parámetros para pad_sequences.\n",
        "\n",
        "#Comprobar la secuencia rellenada."
      ],
      "metadata": {
        "id": "zz4lPYEF1gAa"
      },
      "execution_count": null,
      "outputs": []
    }
  ]
}