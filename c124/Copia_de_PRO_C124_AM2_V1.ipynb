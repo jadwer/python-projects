{
  "nbformat": 4,
  "nbformat_minor": 0,
  "metadata": {
    "colab": {
      "provenance": []
    },
    "kernelspec": {
      "name": "python3",
      "display_name": "Python 3"
    },
    "language_info": {
      "name": "python"
    }
  },
  "cells": [
    {
      "cell_type": "markdown",
      "source": [
        "¿Qué es una **matriz**?\n",
        "\n",
        "Sabemos que es una disposición de número de forma tabular. En Python, usamos listas 2D o arreglos para representar una matriz. Una matriz siempre debe tener un valor numérico.\n",
        "\n",
        "Lista 1D: es una lista con una fila y muchas columnas, tal como se muestra a continuación.\n",
        "\n",
        "Lista 2D: es una lista de listas. Puede tener cualquier número de filas y columnas.\n"
      ],
      "metadata": {
        "id": "7pi_JjSnXDm5"
      }
    },
    {
      "cell_type": "code",
      "source": [
        "# Método 1 para crear listas 1D y 2D\n",
        "A = [3,2,-1,9,5]\n",
        "print(A)\n",
        "B =[[1,-2,3],[8,4,6],[-6,5,3]]\n",
        "print(B)"
      ],
      "metadata": {
        "colab": {
          "base_uri": "https://localhost:8080/"
        },
        "id": "EjzftTTIXC-r",
        "outputId": "ef82e1bf-bebc-4e41-aafa-24575bf22bc8"
      },
      "execution_count": null,
      "outputs": [
        {
          "output_type": "stream",
          "name": "stdout",
          "text": [
            "[3, 2, -1, 9, 5]\n",
            "[[1, -2, 3], [8, 4, 6], [-6, 5, 3]]\n"
          ]
        }
      ]
    },
    {
      "cell_type": "markdown",
      "source": [
        "La biblioteca **NumPy** proporciona diferentes operaciones especializadas en matrices y proporciona operaciones más rápidas en ellas."
      ],
      "metadata": {
        "id": "gJAWuKhyfm9S"
      }
    },
    {
      "cell_type": "code",
      "execution_count": null,
      "metadata": {
        "colab": {
          "base_uri": "https://localhost:8080/"
        },
        "id": "QTSOc5dveetF",
        "outputId": "f2f16da6-27e7-47d6-90ac-7e6ebdffe176"
      },
      "outputs": [
        {
          "output_type": "stream",
          "name": "stdout",
          "text": [
            "[1 2 3 4 5]\n",
            "<class 'numpy.ndarray'>\n"
          ]
        }
      ],
      "source": [
        "# Método para crear matrices 1D usando NumPy\n",
        "\n",
        "import numpy as np\n",
        "\n",
        "arr = np.array([1, 2, 3, 4, 5])\n",
        "print(arr)\n",
        "print(type(arr))"
      ]
    },
    {
      "cell_type": "code",
      "source": [
        "# Método 2 para crear matrices 2D usando NumPy\n",
        "\n",
        "arr_2d =np.array([[1,2,3],[4,5,6],[7,8,9]])\n",
        "print(arr_2d)\n",
        "type(arr_2d)\n",
        "\n",
        "#arr_3d =np.array([[[1,2,3],[4,5,6],[7,8,9]],[[10,11,12],[13,14,15],[16,17,18]],[[19,20,21],[22,23,24],[25,26,27]]])\n",
        "#print(arr_3d)\n",
        "#type(arr_3d)"
      ],
      "metadata": {
        "colab": {
          "base_uri": "https://localhost:8080/"
        },
        "id": "mWdX3b9fkE5l",
        "outputId": "0d337120-a940-4ebb-af93-c44f0143c459"
      },
      "execution_count": null,
      "outputs": [
        {
          "output_type": "stream",
          "name": "stdout",
          "text": [
            "[[1 2 3]\n",
            " [4 5 6]\n",
            " [7 8 9]]\n"
          ]
        },
        {
          "output_type": "execute_result",
          "data": {
            "text/plain": [
              "numpy.ndarray"
            ]
          },
          "metadata": {},
          "execution_count": 4
        }
      ]
    },
    {
      "cell_type": "code",
      "source": [
        "# Arreglo con elementos de diferentes tipos de datos\n",
        "\n",
        "arr_2d_1 =np.array([[1,2,3],['a',5,True],[7,8,9]])\n",
        "print(arr_2d_1)\n",
        "type(arr_2d_1)\n",
        "\n",
        "# ejemplo: 1 -> '1'\n",
        "# a -> x\n",
        "# True -> 'True'\n",
        "# a -> x\n",
        "# 1 + 1 == 2\n",
        "# a + a == aa\n",
        "# a + 1 == a1\n",
        "# 3 * 2 = 6\n",
        "# 3 * a = aaa"
      ],
      "metadata": {
        "colab": {
          "base_uri": "https://localhost:8080/"
        },
        "id": "_Qot-ThBlNXS",
        "outputId": "c7484274-3b20-4118-f83e-f57cd7f72a56"
      },
      "execution_count": null,
      "outputs": [
        {
          "output_type": "stream",
          "name": "stdout",
          "text": [
            "[['1' '2' '3']\n",
            " ['a' '5' 'True']\n",
            " ['7' '8' '9']]\n"
          ]
        },
        {
          "output_type": "execute_result",
          "data": {
            "text/plain": [
              "numpy.ndarray"
            ]
          },
          "metadata": {},
          "execution_count": 4
        }
      ]
    },
    {
      "cell_type": "markdown",
      "source": [
        "Accediendo a elementos de listas 2D y matrices"
      ],
      "metadata": {
        "id": "gTyC68aBmaV8"
      }
    },
    {
      "cell_type": "code",
      "source": [
        "# Accediendo a elementos de una lista 1D o matriz 1D\n",
        "print(A)\n",
        "print(A[1])\n",
        "print(arr)\n",
        "print(arr[2])\n"
      ],
      "metadata": {
        "colab": {
          "base_uri": "https://localhost:8080/"
        },
        "id": "zRJOKcYCrdL2",
        "outputId": "20595f9e-6762-440a-f9c5-4f1ba0cfe341"
      },
      "execution_count": null,
      "outputs": [
        {
          "output_type": "stream",
          "name": "stdout",
          "text": [
            "[3, 2, -1, 9, 5]\n",
            "2\n",
            "[1 2 3 4 5]\n",
            "3\n"
          ]
        }
      ]
    },
    {
      "cell_type": "code",
      "source": [
        "# Accediendo a elementos de una matriz 2D - Método 1\n",
        "print(arr_2d)\n",
        "print(arr_2d[1,2])\n",
        "# Accediendo a elementos de una matriz 2D - Método 2\n",
        "print(arr_2d[0][1])"
      ],
      "metadata": {
        "colab": {
          "base_uri": "https://localhost:8080/"
        },
        "id": "9Z85uTpqmZSi",
        "outputId": "77994495-95d3-4c93-bd40-118a37fc746d"
      },
      "execution_count": null,
      "outputs": [
        {
          "output_type": "stream",
          "name": "stdout",
          "text": [
            "[[1 2 3]\n",
            " [4 5 6]\n",
            " [7 8 9]]\n",
            "6\n",
            "2\n"
          ]
        }
      ]
    },
    {
      "cell_type": "markdown",
      "source": [
        "\n",
        "Actualizando elementos de listas 2D"
      ],
      "metadata": {
        "id": "OtdsdRVYtA2S"
      }
    },
    {
      "cell_type": "code",
      "source": [
        "# variable = 10\n",
        "# print(variable)\n",
        "\n",
        "# variable -= 2\n",
        "# print(variable)\n",
        "\n",
        "# variable = variable - 1\n",
        "# print(variable)\n",
        "\n",
        "# Para actualizar un elemento de una lista/matriz 2D\n",
        "print(arr_2d)\n",
        "print('----------------')\n",
        "# Método 1\n",
        "arr_2d[1,2]=-4\n",
        "print(arr_2d)\n",
        "print('----------------')\n",
        "# Método 2\n",
        "arr_2d[1][2]=8\n",
        "print(arr_2d)\n"
      ],
      "metadata": {
        "id": "vFQzX-33rV15",
        "colab": {
          "base_uri": "https://localhost:8080/"
        },
        "outputId": "4e02f82c-d464-4970-a82d-d8294f3ae628"
      },
      "execution_count": null,
      "outputs": [
        {
          "output_type": "stream",
          "name": "stdout",
          "text": [
            "[[1 2 3]\n",
            " [4 5 8]\n",
            " [7 8 9]]\n",
            "----------------\n",
            "[[ 1  2  3]\n",
            " [ 4  5 -4]\n",
            " [ 7  8  9]]\n",
            "----------------\n",
            "[[1 2 3]\n",
            " [4 5 8]\n",
            " [7 8 9]]\n"
          ]
        }
      ]
    },
    {
      "cell_type": "markdown",
      "source": [
        "Sumar/restar elementos de listas 2D"
      ],
      "metadata": {
        "id": "L8rcQluFvqmK"
      }
    },
    {
      "cell_type": "code",
      "source": [
        "a=np.array([[1,3],\n",
        "            [5,4]])\n",
        "b=np.array([[7,8],\n",
        "            [6,9]])\n",
        "rows=2\n",
        "cols=2\n",
        "c=np.array([[0,0],\n",
        "   [0,0]])\n",
        "for i in range(rows):\n",
        "  for j in range(cols):\n",
        "    c[i][j]=a[i][j]+b[i][j]\n",
        "    # a[i][j]\n",
        "    # b[i][j] +\n",
        "    # c[i][j]\n",
        "print(a,'\\n')\n",
        "print(b,'\\n')\n",
        "print(c)"
      ],
      "metadata": {
        "colab": {
          "base_uri": "https://localhost:8080/"
        },
        "id": "JVQGXsi44lPj",
        "outputId": "15fd128a-a3fa-4dab-9379-411b8b58a7e7"
      },
      "execution_count": null,
      "outputs": [
        {
          "output_type": "stream",
          "name": "stdout",
          "text": [
            "[[1 3]\n",
            " [5 4]] \n",
            "\n",
            "[[7 8]\n",
            " [6 9]] \n",
            "\n",
            "[[ 8 11]\n",
            " [11 13]]\n"
          ]
        }
      ]
    },
    {
      "cell_type": "markdown",
      "source": [
        "Multiplicar elementos de listas 2D"
      ],
      "metadata": {
        "id": "b5IK64hLvuIw"
      }
    },
    {
      "cell_type": "markdown",
      "source": [
        "Multiplicación escalar"
      ],
      "metadata": {
        "id": "fZS4DTTf1wJT"
      }
    },
    {
      "cell_type": "code",
      "source": [
        "b=np.array([[2,-2],\n",
        "            [0,5],\n",
        "            [4,7]])      # Matriz de 3x2\n",
        "\n",
        "print(b,'\\n')\n",
        "n=5                      # Escalar\n",
        "mul=np.zeros([3,2])\n",
        "for i in range(3):\n",
        "  for j in range(2):\n",
        "    #print(b[i][j])\n",
        "    mul[i][j]= n* b[i][j]\n",
        "    #print(mul[i][j])\n",
        "\n",
        "\n",
        "print(mul,'\\n')\n",
        "\n",
        "for rows in mul:\n",
        "  print(rows)"
      ],
      "metadata": {
        "colab": {
          "base_uri": "https://localhost:8080/"
        },
        "id": "thVJZMb229eX",
        "outputId": "59b52681-3392-4c4d-b322-ee74648e05b0"
      },
      "execution_count": null,
      "outputs": [
        {
          "output_type": "stream",
          "name": "stdout",
          "text": [
            "[[ 2 -2]\n",
            " [ 0  5]\n",
            " [ 4  7]] \n",
            "\n",
            "[[ 10. -10.]\n",
            " [  0.  25.]\n",
            " [ 20.  35.]] \n",
            "\n",
            "[ 10. -10.]\n",
            "[ 0. 25.]\n",
            "[20. 35.]\n"
          ]
        }
      ]
    },
    {
      "cell_type": "code",
      "source": [
        "# Usando el método multiply()\n",
        "\n",
        "n = 5     # Escalar\n",
        "\n",
        "arr1= np.array([1, 2, 3])\n",
        "arr2=np.multiply(arr1,n)\n",
        "print(arr2)\n",
        "print('---------------------')\n",
        "\n",
        "arr3= np.array([[1, 2],\n",
        "                [3, 4]])\n",
        "arr4=np.multiply(arr3,n)\n",
        "print(arr4)\n",
        "print('---------------------')\n",
        "\n",
        "print(a)\n",
        "e=np.multiply(a,n)\n",
        "print(e)"
      ],
      "metadata": {
        "colab": {
          "base_uri": "https://localhost:8080/"
        },
        "id": "gqJE1g4P1vQI",
        "outputId": "f7829301-d039-46c6-ed15-afdb7729c6d3"
      },
      "execution_count": null,
      "outputs": [
        {
          "output_type": "stream",
          "name": "stdout",
          "text": [
            "[ 5 10 15]\n",
            "---------------------\n",
            "[[ 5 10]\n",
            " [15 20]]\n",
            "---------------------\n",
            "[[1 3]\n",
            " [5 4]]\n",
            "[[ 5 15]\n",
            " [25 20]]\n"
          ]
        }
      ]
    },
    {
      "cell_type": "code",
      "source": [
        "# Actividad adicional\n",
        "# Para multiplicar elementos de listas/matrices 2D\n",
        "\n",
        "a=np.array([[2,3,-4],\n",
        "             [6,1,0],\n",
        "             [8,9,3]])    # Matriz de 3x3\n",
        "\n",
        "b=np.array([[2,-2],     #4+0+-16=-12  -4+15+-28\n",
        "            [0,5],\n",
        "            [4,7]])      # Matriz de 3x2\n",
        "\n",
        "c= np.zeros([3,2])\n",
        "\n",
        "print(c,'\\n')\n",
        "rows_a=3\n",
        "cols_a=rows_b=2\n",
        "cols_b=3\n",
        "\n",
        "for i in range(3):\n",
        "  for j in range(2):\n",
        "    for k in range(3):\n",
        "      c[i][j]=c[i][j]+a[i][k]*b[k][j]\n",
        "      #print(c[i][j])\n",
        "\n",
        "\n",
        "for rows in c:\n",
        "  print(rows)"
      ],
      "metadata": {
        "id": "fNW2-WvgvUUW",
        "colab": {
          "base_uri": "https://localhost:8080/"
        },
        "outputId": "37c000bb-3c41-4dfb-e6ee-2c10729eb043"
      },
      "execution_count": null,
      "outputs": [
        {
          "output_type": "stream",
          "name": "stdout",
          "text": [
            "[[0. 0.]\n",
            " [0. 0.]\n",
            " [0. 0.]] \n",
            "\n",
            "[-12. -17.]\n",
            "[12. -7.]\n",
            "[28. 50.]\n"
          ]
        }
      ]
    }
  ]
}